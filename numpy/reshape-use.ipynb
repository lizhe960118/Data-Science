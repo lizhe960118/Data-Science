{
 "cells": [
  {
   "cell_type": "code",
   "execution_count": 1,
   "metadata": {},
   "outputs": [],
   "source": [
    "import numpy as np"
   ]
  },
  {
   "cell_type": "code",
   "execution_count": 2,
   "metadata": {},
   "outputs": [
    {
     "name": "stdout",
     "output_type": "stream",
     "text": [
      "[1 2 3 4 5 6 7 8 9]\n",
      "(9,)\n",
      "[[1 2 3]\n",
      " [4 5 6]\n",
      " [7 8 9]]\n",
      "(3, 3)\n"
     ]
    }
   ],
   "source": [
    "t = np.array([1, 2, 3, 4, 5, 6, 7, 8, 9])\n",
    "print(t)\n",
    "print(t.shape)\n",
    "t = np.reshape(t, [3,3])\n",
    "print(t)\n",
    "print(t.shape)"
   ]
  },
  {
   "cell_type": "markdown",
   "metadata": {},
   "source": [
    "## 普通reshape（m,n）变成m行n列"
   ]
  },
  {
   "cell_type": "code",
   "execution_count": 4,
   "metadata": {},
   "outputs": [
    {
     "name": "stdout",
     "output_type": "stream",
     "text": [
      "[[[1 1]\n",
      "  [2 2]]\n",
      "\n",
      " [[3 3]\n",
      "  [4 4]]]\n",
      "(2, 2, 2)\n",
      "[[1 1 2 2]\n",
      " [3 3 4 4]]\n",
      "(2, 4)\n"
     ]
    }
   ],
   "source": [
    "t = np.array([[[1, 1],[2, 2]],\n",
    "    [[3, 3], [4, 4]]])\n",
    "print(t)\n",
    "print(t.shape)\n",
    "t = np.reshape(t, [2,4])\n",
    "print(t)\n",
    "print(t.shape)"
   ]
  },
  {
   "cell_type": "markdown",
   "metadata": {},
   "source": [
    "## 使用 -1 作为占位符"
   ]
  },
  {
   "cell_type": "code",
   "execution_count": 5,
   "metadata": {},
   "outputs": [
    {
     "name": "stdout",
     "output_type": "stream",
     "text": [
      "[[[1 1 1]\n",
      "  [2 2 2]]\n",
      "\n",
      " [[3 3 3]\n",
      "  [4 4 4]]\n",
      "\n",
      " [[5 5 5]\n",
      "  [6 6 6]]]\n",
      "(3, 2, 3)\n",
      "[1 1 1 2 2 2 3 3 3 4 4 4 5 5 5 6 6 6]\n",
      "(18,)\n"
     ]
    }
   ],
   "source": [
    "t = np.array([[[1, 1, 1],\n",
    "                [2, 2, 2]],\n",
    "               [[3, 3, 3],\n",
    "                [4, 4, 4]],\n",
    "               [[5, 5, 5],\n",
    "                [6, 6, 6]]])\n",
    "print(t)\n",
    "print(t.shape)\n",
    "t = np.reshape(t, [-1])\n",
    "print(t)\n",
    "print(t.shape)"
   ]
  },
  {
   "cell_type": "code",
   "execution_count": 7,
   "metadata": {},
   "outputs": [
    {
     "name": "stdout",
     "output_type": "stream",
     "text": [
      "[[[1 1 1]\n",
      "  [2 2 2]]\n",
      "\n",
      " [[3 3 3]\n",
      "  [4 4 4]]\n",
      "\n",
      " [[5 5 5]\n",
      "  [6 6 6]]]\n",
      "(3, 2, 3)\n",
      "[[1 1 1 2 2 2 3 3 3]\n",
      " [4 4 4 5 5 5 6 6 6]]\n",
      "(2, 9)\n"
     ]
    }
   ],
   "source": [
    "t = np.array([[[1, 1, 1],\n",
    "                [2, 2, 2]],\n",
    "               [[3, 3, 3],\n",
    "                [4, 4, 4]],\n",
    "               [[5, 5, 5],\n",
    "                [6, 6, 6]]])\n",
    "print(t)\n",
    "print(t.shape)\n",
    "t = np.reshape(t, [2, -1])\n",
    "print(t)\n",
    "print(t.shape)"
   ]
  },
  {
   "cell_type": "code",
   "execution_count": 8,
   "metadata": {},
   "outputs": [
    {
     "name": "stdout",
     "output_type": "stream",
     "text": [
      "[[[1 1 1]\n",
      "  [2 2 2]]\n",
      "\n",
      " [[3 3 3]\n",
      "  [4 4 4]]\n",
      "\n",
      " [[5 5 5]\n",
      "  [6 6 6]]]\n",
      "(3, 2, 3)\n",
      "[[1 1 1 2 2 2 3 3 3]\n",
      " [4 4 4 5 5 5 6 6 6]]\n",
      "(2, 9)\n"
     ]
    }
   ],
   "source": [
    "t = np.array([[[1, 1, 1],\n",
    "                [2, 2, 2]],\n",
    "               [[3, 3, 3],\n",
    "                [4, 4, 4]],\n",
    "               [[5, 5, 5],\n",
    "                [6, 6, 6]]])\n",
    "print(t)\n",
    "print(t.shape)\n",
    "t = np.reshape(t, [-1, 9])\n",
    "print(t)\n",
    "print(t.shape)"
   ]
  },
  {
   "cell_type": "code",
   "execution_count": 9,
   "metadata": {},
   "outputs": [
    {
     "name": "stdout",
     "output_type": "stream",
     "text": [
      "[[[1 1 1]\n",
      "  [2 2 2]]\n",
      "\n",
      " [[3 3 3]\n",
      "  [4 4 4]]\n",
      "\n",
      " [[5 5 5]\n",
      "  [6 6 6]]]\n",
      "(3, 2, 3)\n",
      "[[[1 1 1]\n",
      "  [2 2 2]\n",
      "  [3 3 3]]\n",
      "\n",
      " [[4 4 4]\n",
      "  [5 5 5]\n",
      "  [6 6 6]]]\n",
      "(2, 3, 3)\n"
     ]
    }
   ],
   "source": [
    "t = np.array([[[1, 1, 1],\n",
    "                [2, 2, 2]],\n",
    "               [[3, 3, 3],\n",
    "                [4, 4, 4]],\n",
    "               [[5, 5, 5],\n",
    "                [6, 6, 6]]])\n",
    "print(t)\n",
    "print(t.shape)\n",
    "t = np.reshape(t, [2, -1, 3])\n",
    "print(t)\n",
    "print(t.shape)"
   ]
  },
  {
   "cell_type": "markdown",
   "metadata": {},
   "source": [
    "## 使用 [] 将向量转化为标量"
   ]
  },
  {
   "cell_type": "code",
   "execution_count": 10,
   "metadata": {},
   "outputs": [
    {
     "name": "stdout",
     "output_type": "stream",
     "text": [
      "[7]\n",
      "(1,)\n",
      "7\n",
      "()\n"
     ]
    }
   ],
   "source": [
    "t = np.array([7])\n",
    "print(t)\n",
    "print(t.shape)\n",
    "t = np.reshape(t, [])\n",
    "print(t)\n",
    "print(t.shape)"
   ]
  }
 ],
 "metadata": {
  "kernelspec": {
   "display_name": "Python 3",
   "language": "python",
   "name": "python3"
  },
  "language_info": {
   "codemirror_mode": {
    "name": "ipython",
    "version": 3
   },
   "file_extension": ".py",
   "mimetype": "text/x-python",
   "name": "python",
   "nbconvert_exporter": "python",
   "pygments_lexer": "ipython3",
   "version": "3.6.3"
  }
 },
 "nbformat": 4,
 "nbformat_minor": 2
}
