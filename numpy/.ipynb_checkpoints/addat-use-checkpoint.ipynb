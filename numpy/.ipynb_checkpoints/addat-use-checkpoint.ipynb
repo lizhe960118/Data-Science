{
 "cells": [
  {
   "cell_type": "code",
   "execution_count": 2,
   "metadata": {},
   "outputs": [
    {
     "name": "stdout",
     "output_type": "stream",
     "text": [
      "(4, 4)\n",
      "(5, 3)\n",
      "(4, 4, 3)\n",
      "None\n"
     ]
    }
   ],
   "source": [
    "import numpy as np\n",
    "indices = np.array([\n",
    "    [1, 0, 0, 0],\n",
    "    [0, 1, 0, 0],\n",
    "    [0, 0, 1, 0],\n",
    "    [0, 0, 0, 1]\n",
    "])\n",
    "print(indices.shape)\n",
    "\n",
    "dW = np.zeros((5, 3))\n",
    "print(dW.shape)\n",
    "\n",
    "dout = np.random.randn(4, 4, 3)\n",
    "print(dout.shape)\n",
    "\n",
    "dW0 = np.add.at(dW, indices, dout)\n",
    "print(dW0)"
   ]
  },
  {
   "cell_type": "code",
   "execution_count": 3,
   "metadata": {},
   "outputs": [
    {
     "name": "stdout",
     "output_type": "stream",
     "text": [
      "[ 6  8 10  4]\n"
     ]
    }
   ],
   "source": [
    "a = np.array([1, 2, 3, 4])\n",
    "b = np.array([5, 6, 7]) \n",
    "np.add.at(a, [0, 1, 2], b) \n",
    "print(a) "
   ]
  },
  {
   "cell_type": "code",
   "execution_count": 4,
   "metadata": {},
   "outputs": [
    {
     "name": "stdout",
     "output_type": "stream",
     "text": [
      "[19  2  3  4]\n"
     ]
    }
   ],
   "source": [
    "a = np.array([1, 2, 3, 4])\n",
    "b = np.array([5, 6, 7]) \n",
    "np.add.at(a, [0, 0, 0], b) \n",
    "print(a) "
   ]
  },
  {
   "cell_type": "code",
   "execution_count": 5,
   "metadata": {},
   "outputs": [
    {
     "name": "stdout",
     "output_type": "stream",
     "text": [
      "[13  2  3 10]\n"
     ]
    }
   ],
   "source": [
    "a = np.array([1, 2, 3, 4])\n",
    "b = np.array([5, 6, 7]) \n",
    "np.add.at(a, [0, 3, 0], b) \n",
    "print(a)"
   ]
  },
  {
   "cell_type": "code",
   "execution_count": 6,
   "metadata": {},
   "outputs": [
    {
     "name": "stdout",
     "output_type": "stream",
     "text": [
      "(4, 3)\n",
      "[[ 6 11 16]\n",
      " [ 7 12 16]\n",
      " [ 8 13 16]\n",
      " [ 4  8  9]]\n"
     ]
    }
   ],
   "source": [
    "a = np.array([[1, 2, 3, 4], [5, 6, 7, 8], [9, 9, 9, 9]]).T\n",
    "print(a.shape)\n",
    "b = np.array([5, 6, 7]) \n",
    "np.add.at(a, [0, 1, 2], b) \n",
    "print(a) "
   ]
  },
  {
   "cell_type": "code",
   "execution_count": 7,
   "metadata": {},
   "outputs": [
    {
     "name": "stdout",
     "output_type": "stream",
     "text": [
      "(4, 3)\n",
      "(6, 5, 3)\n",
      "(6, 5)\n",
      "[[127 131 135]\n",
      " [ 50  54  57]\n",
      " [ 51  55  57]\n",
      " [  4   8   9]]\n"
     ]
    }
   ],
   "source": [
    "a = np.array([[1, 2, 3, 4], [5, 6, 7, 8], [9, 9, 9, 9]]).T\n",
    "print(a.shape)\n",
    "\n",
    "b = np.array([\n",
    "\t[[5, 6, 7, 7, 7], [12, 13, 14, 14, 14], [1, 2, 3, 3, 3],[5, 6, 7, 7, 7], [12, 13, 14, 14, 14], [1, 2, 3, 3, 3]],\n",
    "\t[[5, 6, 7, 7, 7], [12, 13, 14, 14, 14], [1, 2, 3, 3, 3],[5, 6, 7, 7, 7], [12, 13, 14, 14, 14], [1, 2, 3, 3, 3]],\n",
    "\t[[5, 6, 7, 7, 7], [12, 13, 14, 14, 14], [1, 2, 3, 3, 3],[5, 6, 7, 7, 7], [12, 13, 14, 14, 14], [1, 2, 3, 3, 3]]\n",
    "\t]).transpose(1, 2, 0)\n",
    "print(b.shape)\n",
    "\n",
    "c = np.array([[0, 0, 0, 1, 2],[0, 0, 0, 1, 2], [0, 0, 0, 1, 2],[0, 0, 0, 1, 2],[0, 0, 0, 1, 2],[0, 0, 0, 1, 2]])\n",
    "print(c.shape)\n",
    "\n",
    "# print(b[c])\n",
    "\n",
    "np.add.at(a, c, b) \n",
    "print(a) "
   ]
  },
  {
   "cell_type": "code",
   "execution_count": 8,
   "metadata": {},
   "outputs": [
    {
     "name": "stdout",
     "output_type": "stream",
     "text": [
      "(6, 5)\n",
      "(4, 3, 5)\n",
      "(4, 3)\n",
      "[[1 0 2 5 1]\n",
      " [1 0 2 1 0]\n",
      " [0 5 3 2 3]\n",
      " [1 2 3 4 5]\n",
      " [1 2 3 4 5]\n",
      " [1 2 3 4 5]]\n"
     ]
    }
   ],
   "source": [
    "b = np.array([[1, 2, 3, 4, 5],[1, 2, 3, 4, 5],[1, 2, 3, 4, 5],[1, 2, 3, 4, 5],[1, 2, 3, 4, 5],[1, 2, 3, 4, 5]])\n",
    "print(b.shape)\n",
    "out = np.random.randn(4, 3, 5)\n",
    "# print(out)\n",
    "print(out.shape)\n",
    "a = np.array([[0, 1, 2],[0, 1, 2],[0, 1, 2],[0, 1, 2]])\n",
    "print(a.shape) \n",
    "np.add.at(b, a, out) \n",
    "print(b) "
   ]
  }
 ],
 "metadata": {
  "kernelspec": {
   "display_name": "Python 3",
   "language": "python",
   "name": "python3"
  },
  "language_info": {
   "codemirror_mode": {
    "name": "ipython",
    "version": 3
   },
   "file_extension": ".py",
   "mimetype": "text/x-python",
   "name": "python",
   "nbconvert_exporter": "python",
   "pygments_lexer": "ipython3",
   "version": "3.6.3"
  }
 },
 "nbformat": 4,
 "nbformat_minor": 2
}
